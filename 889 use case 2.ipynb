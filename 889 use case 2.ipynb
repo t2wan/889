{
 "cells": [
  {
   "cell_type": "code",
   "execution_count": 20,
   "id": "f418c57e",
   "metadata": {},
   "outputs": [],
   "source": [
    "import matplotlib.pyplot as plt\n",
    "import pandas as pd"
   ]
  },
  {
   "cell_type": "code",
   "execution_count": 12,
   "id": "cdd557a6",
   "metadata": {},
   "outputs": [],
   "source": [
    "df = pd.read_csv('Use Case 2 - Onboarding effectiveness - 3 months data.csv',index_col='Unnamed: 0')"
   ]
  },
  {
   "cell_type": "code",
   "execution_count": 19,
   "id": "a87bda6b",
   "metadata": {},
   "outputs": [
    {
     "data": {
      "text/html": [
       "<div>\n",
       "<style scoped>\n",
       "    .dataframe tbody tr th:only-of-type {\n",
       "        vertical-align: middle;\n",
       "    }\n",
       "\n",
       "    .dataframe tbody tr th {\n",
       "        vertical-align: top;\n",
       "    }\n",
       "\n",
       "    .dataframe thead th {\n",
       "        text-align: right;\n",
       "    }\n",
       "</style>\n",
       "<table border=\"1\" class=\"dataframe\">\n",
       "  <thead>\n",
       "    <tr style=\"text-align: right;\">\n",
       "      <th></th>\n",
       "      <th>ID</th>\n",
       "      <th>Reached_3w</th>\n",
       "      <th>Reached_3m</th>\n",
       "      <th>Tenure_In_Months</th>\n",
       "      <th>Date_Joined</th>\n",
       "      <th>FUA_Balance</th>\n",
       "      <th>Number_Of_Services</th>\n",
       "      <th>Has_Payroll</th>\n",
       "      <th>Income</th>\n",
       "      <th>Has_Investment</th>\n",
       "      <th>Has_Visa</th>\n",
       "      <th>VISA_balance</th>\n",
       "      <th>Has_mortgage</th>\n",
       "      <th>Has_Deposit</th>\n",
       "      <th>Number_Transactions</th>\n",
       "      <th>Age</th>\n",
       "      <th>City</th>\n",
       "      <th>Unnamed: 17</th>\n",
       "    </tr>\n",
       "  </thead>\n",
       "  <tbody>\n",
       "    <tr>\n",
       "      <th>0</th>\n",
       "      <td>2613.0</td>\n",
       "      <td>0.0</td>\n",
       "      <td>0.0</td>\n",
       "      <td>3.0</td>\n",
       "      <td>7/15/2020</td>\n",
       "      <td>944.35</td>\n",
       "      <td>2.0</td>\n",
       "      <td>1.0</td>\n",
       "      <td>NaN</td>\n",
       "      <td>0.0</td>\n",
       "      <td>0.0</td>\n",
       "      <td>0.000000</td>\n",
       "      <td>0.0</td>\n",
       "      <td>1.0</td>\n",
       "      <td>45.0</td>\n",
       "      <td>49.0</td>\n",
       "      <td>SURREY                                        ...</td>\n",
       "      <td>NaN</td>\n",
       "    </tr>\n",
       "    <tr>\n",
       "      <th>1</th>\n",
       "      <td>3382.0</td>\n",
       "      <td>1.0</td>\n",
       "      <td>1.0</td>\n",
       "      <td>3.0</td>\n",
       "      <td>1/21/2021</td>\n",
       "      <td>1589.61</td>\n",
       "      <td>2.0</td>\n",
       "      <td>0.0</td>\n",
       "      <td>NaN</td>\n",
       "      <td>0.0</td>\n",
       "      <td>1.0</td>\n",
       "      <td>676.347873</td>\n",
       "      <td>0.0</td>\n",
       "      <td>1.0</td>\n",
       "      <td>25.0</td>\n",
       "      <td>69.0</td>\n",
       "      <td>PENDER ISLAND                                 ...</td>\n",
       "      <td>NaN</td>\n",
       "    </tr>\n",
       "    <tr>\n",
       "      <th>2</th>\n",
       "      <td>3927.0</td>\n",
       "      <td>1.0</td>\n",
       "      <td>1.0</td>\n",
       "      <td>3.0</td>\n",
       "      <td>8/14/2020</td>\n",
       "      <td>1000.00</td>\n",
       "      <td>3.0</td>\n",
       "      <td>1.0</td>\n",
       "      <td>NaN</td>\n",
       "      <td>0.0</td>\n",
       "      <td>1.0</td>\n",
       "      <td>326.556766</td>\n",
       "      <td>0.0</td>\n",
       "      <td>1.0</td>\n",
       "      <td>0.0</td>\n",
       "      <td>59.0</td>\n",
       "      <td>BURNABY                                       ...</td>\n",
       "      <td>NaN</td>\n",
       "    </tr>\n",
       "    <tr>\n",
       "      <th>3</th>\n",
       "      <td>4065.0</td>\n",
       "      <td>1.0</td>\n",
       "      <td>1.0</td>\n",
       "      <td>3.0</td>\n",
       "      <td>6/26/2020</td>\n",
       "      <td>219.41</td>\n",
       "      <td>1.0</td>\n",
       "      <td>0.0</td>\n",
       "      <td>NaN</td>\n",
       "      <td>0.0</td>\n",
       "      <td>1.0</td>\n",
       "      <td>0.000000</td>\n",
       "      <td>0.0</td>\n",
       "      <td>1.0</td>\n",
       "      <td>0.0</td>\n",
       "      <td>71.0</td>\n",
       "      <td>VANCOUVER                                     ...</td>\n",
       "      <td>NaN</td>\n",
       "    </tr>\n",
       "    <tr>\n",
       "      <th>4</th>\n",
       "      <td>4221.0</td>\n",
       "      <td>0.0</td>\n",
       "      <td>0.0</td>\n",
       "      <td>3.0</td>\n",
       "      <td>12/18/2020</td>\n",
       "      <td>76.09</td>\n",
       "      <td>1.0</td>\n",
       "      <td>0.0</td>\n",
       "      <td>NaN</td>\n",
       "      <td>0.0</td>\n",
       "      <td>1.0</td>\n",
       "      <td>1315.930929</td>\n",
       "      <td>0.0</td>\n",
       "      <td>1.0</td>\n",
       "      <td>66.0</td>\n",
       "      <td>65.0</td>\n",
       "      <td>VANCOUVER                                     ...</td>\n",
       "      <td>NaN</td>\n",
       "    </tr>\n",
       "    <tr>\n",
       "      <th>...</th>\n",
       "      <td>...</td>\n",
       "      <td>...</td>\n",
       "      <td>...</td>\n",
       "      <td>...</td>\n",
       "      <td>...</td>\n",
       "      <td>...</td>\n",
       "      <td>...</td>\n",
       "      <td>...</td>\n",
       "      <td>...</td>\n",
       "      <td>...</td>\n",
       "      <td>...</td>\n",
       "      <td>...</td>\n",
       "      <td>...</td>\n",
       "      <td>...</td>\n",
       "      <td>...</td>\n",
       "      <td>...</td>\n",
       "      <td>...</td>\n",
       "      <td>...</td>\n",
       "    </tr>\n",
       "    <tr>\n",
       "      <th>7009</th>\n",
       "      <td>9996256.0</td>\n",
       "      <td>1.0</td>\n",
       "      <td>0.0</td>\n",
       "      <td>3.0</td>\n",
       "      <td>1/19/2021</td>\n",
       "      <td>710077.85</td>\n",
       "      <td>2.0</td>\n",
       "      <td>0.0</td>\n",
       "      <td>NaN</td>\n",
       "      <td>0.0</td>\n",
       "      <td>1.0</td>\n",
       "      <td>0.000000</td>\n",
       "      <td>0.0</td>\n",
       "      <td>1.0</td>\n",
       "      <td>0.0</td>\n",
       "      <td>72.0</td>\n",
       "      <td>RICHMOND                                      ...</td>\n",
       "      <td>NaN</td>\n",
       "    </tr>\n",
       "    <tr>\n",
       "      <th>7010</th>\n",
       "      <td>9998431.0</td>\n",
       "      <td>1.0</td>\n",
       "      <td>0.0</td>\n",
       "      <td>3.0</td>\n",
       "      <td>12/19/2020</td>\n",
       "      <td>2495.02</td>\n",
       "      <td>2.0</td>\n",
       "      <td>1.0</td>\n",
       "      <td>NaN</td>\n",
       "      <td>0.0</td>\n",
       "      <td>1.0</td>\n",
       "      <td>2530.148986</td>\n",
       "      <td>0.0</td>\n",
       "      <td>1.0</td>\n",
       "      <td>23.0</td>\n",
       "      <td>66.0</td>\n",
       "      <td>VANCOUVER                                     ...</td>\n",
       "      <td>NaN</td>\n",
       "    </tr>\n",
       "    <tr>\n",
       "      <th>7011</th>\n",
       "      <td>9999175.0</td>\n",
       "      <td>1.0</td>\n",
       "      <td>0.0</td>\n",
       "      <td>3.0</td>\n",
       "      <td>3/23/2020</td>\n",
       "      <td>10.00</td>\n",
       "      <td>1.0</td>\n",
       "      <td>1.0</td>\n",
       "      <td>NaN</td>\n",
       "      <td>1.0</td>\n",
       "      <td>0.0</td>\n",
       "      <td>0.000000</td>\n",
       "      <td>0.0</td>\n",
       "      <td>1.0</td>\n",
       "      <td>0.0</td>\n",
       "      <td>59.0</td>\n",
       "      <td>PITT MEADOWS                                  ...</td>\n",
       "      <td>NaN</td>\n",
       "    </tr>\n",
       "    <tr>\n",
       "      <th>7012</th>\n",
       "      <td>9999557.0</td>\n",
       "      <td>0.0</td>\n",
       "      <td>0.0</td>\n",
       "      <td>3.0</td>\n",
       "      <td>7/28/2020</td>\n",
       "      <td>463505.54</td>\n",
       "      <td>2.0</td>\n",
       "      <td>0.0</td>\n",
       "      <td>NaN</td>\n",
       "      <td>0.0</td>\n",
       "      <td>1.0</td>\n",
       "      <td>1422.653889</td>\n",
       "      <td>0.0</td>\n",
       "      <td>1.0</td>\n",
       "      <td>8.0</td>\n",
       "      <td>58.0</td>\n",
       "      <td>SURREY                                        ...</td>\n",
       "      <td>NaN</td>\n",
       "    </tr>\n",
       "    <tr>\n",
       "      <th>7013</th>\n",
       "      <td>9999762.0</td>\n",
       "      <td>0.0</td>\n",
       "      <td>0.0</td>\n",
       "      <td>3.0</td>\n",
       "      <td>5/15/2020</td>\n",
       "      <td>402216.60</td>\n",
       "      <td>2.0</td>\n",
       "      <td>0.0</td>\n",
       "      <td>NaN</td>\n",
       "      <td>0.0</td>\n",
       "      <td>0.0</td>\n",
       "      <td>0.000000</td>\n",
       "      <td>1.0</td>\n",
       "      <td>1.0</td>\n",
       "      <td>1.0</td>\n",
       "      <td>29.0</td>\n",
       "      <td>SQUAMISH                                      ...</td>\n",
       "      <td>NaN</td>\n",
       "    </tr>\n",
       "  </tbody>\n",
       "</table>\n",
       "<p>7014 rows × 18 columns</p>\n",
       "</div>"
      ],
      "text/plain": [
       "             ID  Reached_3w  Reached_3m  Tenure_In_Months Date_Joined  \\\n",
       "0        2613.0         0.0         0.0               3.0   7/15/2020   \n",
       "1        3382.0         1.0         1.0               3.0   1/21/2021   \n",
       "2        3927.0         1.0         1.0               3.0   8/14/2020   \n",
       "3        4065.0         1.0         1.0               3.0   6/26/2020   \n",
       "4        4221.0         0.0         0.0               3.0  12/18/2020   \n",
       "...         ...         ...         ...               ...         ...   \n",
       "7009  9996256.0         1.0         0.0               3.0   1/19/2021   \n",
       "7010  9998431.0         1.0         0.0               3.0  12/19/2020   \n",
       "7011  9999175.0         1.0         0.0               3.0   3/23/2020   \n",
       "7012  9999557.0         0.0         0.0               3.0   7/28/2020   \n",
       "7013  9999762.0         0.0         0.0               3.0   5/15/2020   \n",
       "\n",
       "      FUA_Balance  Number_Of_Services  Has_Payroll  Income  Has_Investment  \\\n",
       "0          944.35                 2.0          1.0     NaN             0.0   \n",
       "1         1589.61                 2.0          0.0     NaN             0.0   \n",
       "2         1000.00                 3.0          1.0     NaN             0.0   \n",
       "3          219.41                 1.0          0.0     NaN             0.0   \n",
       "4           76.09                 1.0          0.0     NaN             0.0   \n",
       "...           ...                 ...          ...     ...             ...   \n",
       "7009    710077.85                 2.0          0.0     NaN             0.0   \n",
       "7010      2495.02                 2.0          1.0     NaN             0.0   \n",
       "7011        10.00                 1.0          1.0     NaN             1.0   \n",
       "7012    463505.54                 2.0          0.0     NaN             0.0   \n",
       "7013    402216.60                 2.0          0.0     NaN             0.0   \n",
       "\n",
       "      Has_Visa  VISA_balance  Has_mortgage  Has_Deposit  Number_Transactions  \\\n",
       "0          0.0      0.000000           0.0          1.0                 45.0   \n",
       "1          1.0    676.347873           0.0          1.0                 25.0   \n",
       "2          1.0    326.556766           0.0          1.0                  0.0   \n",
       "3          1.0      0.000000           0.0          1.0                  0.0   \n",
       "4          1.0   1315.930929           0.0          1.0                 66.0   \n",
       "...        ...           ...           ...          ...                  ...   \n",
       "7009       1.0      0.000000           0.0          1.0                  0.0   \n",
       "7010       1.0   2530.148986           0.0          1.0                 23.0   \n",
       "7011       0.0      0.000000           0.0          1.0                  0.0   \n",
       "7012       1.0   1422.653889           0.0          1.0                  8.0   \n",
       "7013       0.0      0.000000           1.0          1.0                  1.0   \n",
       "\n",
       "       Age                                               City  Unnamed: 17  \n",
       "0     49.0  SURREY                                        ...          NaN  \n",
       "1     69.0  PENDER ISLAND                                 ...          NaN  \n",
       "2     59.0  BURNABY                                       ...          NaN  \n",
       "3     71.0  VANCOUVER                                     ...          NaN  \n",
       "4     65.0  VANCOUVER                                     ...          NaN  \n",
       "...    ...                                                ...          ...  \n",
       "7009  72.0  RICHMOND                                      ...          NaN  \n",
       "7010  66.0  VANCOUVER                                     ...          NaN  \n",
       "7011  59.0  PITT MEADOWS                                  ...          NaN  \n",
       "7012  58.0  SURREY                                        ...          NaN  \n",
       "7013  29.0  SQUAMISH                                      ...          NaN  \n",
       "\n",
       "[7014 rows x 18 columns]"
      ]
     },
     "execution_count": 19,
     "metadata": {},
     "output_type": "execute_result"
    }
   ],
   "source": [
    "df"
   ]
  },
  {
   "cell_type": "code",
   "execution_count": 31,
   "id": "2bb3fca8",
   "metadata": {},
   "outputs": [
    {
     "data": {
      "image/png": "[encoded data removed]",
      "text/plain": [
       "<Figure size 432x288 with 1 Axes>"
      ]
     },
     "metadata": {
      "needs_background": "light"
     },
     "output_type": "display_data"
    },
    {
     "data": {
      "image/png": "[encoded data removed]",
      "text/plain": [
       "<Figure size 432x288 with 1 Axes>"
      ]
     },
     "metadata": {
      "needs_background": "light"
     },
     "output_type": "display_data"
    },
    {
     "data": {
      "image/png": "[encoded data removed]",
      "text/plain": [
       "<Figure size 432x288 with 1 Axes>"
      ]
     },
     "metadata": {
      "needs_background": "light"
     },
     "output_type": "display_data"
    },
    {
     "data": {
      "image/png": "[encoded data removed]",
      "text/plain": [
       "<Figure size 432x288 with 1 Axes>"
      ]
     },
     "metadata": {
      "needs_background": "light"
     },
     "output_type": "display_data"
    },
    {
     "data": {
      "image/png": "[encoded data removed]",
      "text/plain": [
       "<Figure size 432x288 with 1 Axes>"
      ]
     },
     "metadata": {
      "needs_background": "light"
     },
     "output_type": "display_data"
    },
    {
     "data": {
      "image/png": "[encoded data removed]",
      "text/plain": [
       "<Figure size 432x288 with 1 Axes>"
      ]
     },
     "metadata": {
      "needs_background": "light"
     },
     "output_type": "display_data"
    }
   ],
   "source": [
    "for i in ['FUA_Balance','Number_Of_Services','Income']:\n",
    "    plt.bar(df[(df['Reached_3w']==1)|(df['Reached_3m']==1)]['Age'],\n",
    "            df[(df['Reached_3w']==1)|(df['Reached_3m']==1)][i])\n",
    "    plt.show()\n",
    "\n",
    "    plt.bar(df[(df['Reached_3w']==0)&(df['Reached_3m']==0)]['Age'],\n",
    "            df[(df['Reached_3w']==0)&(df['Reached_3m']==0)][i])\n",
    "    plt.show()"
   ]
  },
  {
   "cell_type": "code",
   "execution_count": 32,
   "id": "87f6e238",
   "metadata": {},
   "outputs": [
    {
     "data": {
      "image/png": "[encoded data removed]",
      "text/plain": [
       "<Figure size 432x288 with 1 Axes>"
      ]
     },
     "metadata": {
      "needs_background": "light"
     },
     "output_type": "display_data"
    },
    {
     "data": {
      "image/png": "[encoded data removed]",
      "text/plain": [
       "<Figure size 432x288 with 1 Axes>"
      ]
     },
     "metadata": {
      "needs_background": "light"
     },
     "output_type": "display_data"
    },
    {
     "data": {
      "image/png": "[encoded data removed]",
      "text/plain": [
       "<Figure size 432x288 with 1 Axes>"
      ]
     },
     "metadata": {
      "needs_background": "light"
     },
     "output_type": "display_data"
    },
    {
     "data": {
      "image/png": "[encoded data removed]",
      "text/plain": [
       "<Figure size 432x288 with 1 Axes>"
      ]
     },
     "metadata": {
      "needs_background": "light"
     },
     "output_type": "display_data"
    }
   ],
   "source": [
    "for i in ['VISA_balance','Number_Transactions']:\n",
    "    plt.bar(df[(df['Reached_3w']==1)|(df['Reached_3m']==1)]['Age'],\n",
    "            df[(df['Reached_3w']==1)|(df['Reached_3m']==1)][i])\n",
    "    plt.show()\n",
    "\n",
    "    plt.bar(df[(df['Reached_3w']==0)&(df['Reached_3m']==0)]['Age'],\n",
    "            df[(df['Reached_3w']==0)&(df['Reached_3m']==0)][i])\n",
    "    plt.show()"
   ]
  },
  {
   "cell_type": "code",
   "execution_count": null,
   "id": "e221fbff",
   "metadata": {},
   "outputs": [],
   "source": [
    "#People who got contacted and aged around 60 get significant higher number of transactions\n",
    "#People who got contacted and aged around 40 get significant lowers number of transactions\n",
    "\n",
    "#AVOID CONTACING 40s, TARGET CONTACTING 60S"
   ]
  },
  {
   "cell_type": "code",
   "execution_count": null,
   "id": "66c8947e",
   "metadata": {},
   "outputs": [],
   "source": []
  }
 ],
 "metadata": {
  "kernelspec": {
   "display_name": "Python 3 (ipykernel)",
   "language": "python",
   "name": "python3"
  },
  "language_info": {
   "codemirror_mode": {
    "name": "ipython",
    "version": 3
   },
   "file_extension": ".py",
   "mimetype": "text/x-python",
   "name": "python",
   "nbconvert_exporter": "python",
   "pygments_lexer": "ipython3",
   "version": "3.8.12"
  }
 },
 "nbformat": 4,
 "nbformat_minor": 5
}
